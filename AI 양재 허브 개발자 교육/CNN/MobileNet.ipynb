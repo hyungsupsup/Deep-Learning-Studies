{
 "cells": [
  {
   "cell_type": "code",
   "execution_count": null,
   "id": "3e217318",
   "metadata": {},
   "outputs": [],
   "source": [
    "import tensorflow as tf\n",
    "from tensorflow import keras\n",
    "\n",
    "from tensorflow.keras.layers import Conv2D, GlobalAveragePooling2D, \\\n",
    "                                    Dense, BatchNormalization, Activation, \\\n",
    "                                    DepthwiseConv2D\n",
    "\n",
    "input_shape = (224, 224, 3)\n",
    "classes_num = 1000\n",
    "\n",
    "def depth_wise_separable_conv(x, filter, stride, name=None):\n",
    "  x = DepthwiseConv2D(3, stride, 'same', use_bias=False)(x)\n",
    "  x = BatchNormalization()(x)\n",
    "  x = Activation('relu')(x)\n",
    "  x = Conv2D(filter, 1, 1, 'same', use_bias=False)(x)\n",
    "  x = BatchNormalization()(x)\n",
    "  return Activation('relu', name=name)(x)\n",
    "\n",
    "input = keras.Input(shape=input_shape)\n",
    "\n",
    "x = Conv2D(32, 3, 2, 'same', use_bias=False)(input)\n",
    "x = BatchNormalization()(x)\n",
    "x = Activation('relu')(x)\n",
    "\n",
    "x = depth_wise_separable_conv(x, 64, 1, 'depth_wise_sep_conv_1')\n",
    "x = depth_wise_separable_conv(x, 128, 2, 'depth_wise_sep_conv_2')\n",
    "x = depth_wise_separable_conv(x, 128, 1, 'depth_wise_sep_conv_3')\n",
    "x = depth_wise_separable_conv(x, 256, 2, 'depth_wise_sep_conv_4')\n",
    "x = depth_wise_separable_conv(x, 256, 1, 'depth_wise_sep_conv_5')\n",
    "x = depth_wise_separable_conv(x, 512, 2, 'depth_wise_sep_conv_6')\n",
    "\n",
    "for idx in range(5):\n",
    "  x = depth_wise_separable_conv(x, 512, 1,\n",
    "      'depth_wise_sep_conv_{}'.format(idx+7))\n",
    "\n",
    "x = depth_wise_separable_conv(x, 1024, 2, 'depth_wise_sep_conv_12')\n",
    "x = depth_wise_separable_conv(x, 1024, 1, 'depth_wise_sep_conv_13')\n",
    "\n",
    "x = GlobalAveragePooling2D()(x)\n",
    "output = Dense(classes_num, activation='softmax')(x)\n",
    "\n",
    "model = keras.Model(\n",
    "    inputs=input,\n",
    "    outputs=output\n",
    ")\n",
    "\n",
    "model.summary()\n",
    "\n"
   ]
  }
 ],
 "metadata": {
  "kernelspec": {
   "display_name": "Python 3 (ipykernel)",
   "language": "python",
   "name": "python3"
  },
  "language_info": {
   "codemirror_mode": {
    "name": "ipython",
    "version": 3
   },
   "file_extension": ".py",
   "mimetype": "text/x-python",
   "name": "python",
   "nbconvert_exporter": "python",
   "pygments_lexer": "ipython3",
   "version": "3.7.9"
  }
 },
 "nbformat": 4,
 "nbformat_minor": 5
}
