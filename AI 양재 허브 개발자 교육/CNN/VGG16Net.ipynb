{
 "cells": [
  {
   "cell_type": "code",
   "execution_count": null,
   "id": "9a275a79",
   "metadata": {},
   "outputs": [],
   "source": [
    "import tensorflow as tf\n",
    "from tensorflow import keras\n",
    "from tensorflow.keras import layers\n",
    "\n",
    "input_shape = (224,224,3)\n",
    "classes = 1000\n",
    "\n",
    "input = keras.Input(shape = input_shape, name = 'input')\n",
    "\n",
    "#block 1 \n",
    "x = layers.Conv2D(64, (3,3), padding = 'same', activation = 'relu', name = 'block1_conv1')(input)\n",
    "x = layers.Conv2D(64, (3,3), padding = 'same', activation = 'relu', name = 'block1_conv2')(x)\n",
    "x = layers.MaxPooling2D((2,2), name = 'block1_pool')(x)\n",
    "\n",
    "#block 2\n",
    "x = layers.Conv2D(128, (3,3), padding = 'same', activation = 'relu', name = 'block2_conv1')(x)\n",
    "x = layers.Conv2D(128, (3,3), padding = 'same', activation = 'relu', name = 'block2_conv2')(x)\n",
    "x = layers.MaxPooling2D((2,2), name = 'block2_pool')(x)\n",
    "\n",
    "#block 3\n",
    "x = layers.Conv2D(256, (3,3), padding = 'same', activation = 'relu', name = 'block3_conv1')(x)\n",
    "x = layers.Conv2D(256, (3,3), padding = 'same', activation = 'relu', name = 'block3_conv2')(x)\n",
    "x = layers.Conv2D(256, (3,3), padding = 'same', activation = 'relu', name = 'block3_conv3')(x)\n",
    "x = layers.MaxPooling2D((2,2), name = 'block3_pool')(x)\n",
    "\n",
    "#block 4\n",
    "x = layers.Conv2D(512, (3,3), padding = 'same', activation = 'relu', name = 'block4_conv1')(x)\n",
    "x = layers.Conv2D(512, (3,3), padding = 'same', activation = 'relu', name = 'block4_conv2')(x)\n",
    "x = layers.Conv2D(512, (3,3), padding = 'same', activation = 'relu', name = 'block4_conv3')(x)\n",
    "x = layers.MaxPooling2D((2,2), name = 'block4_pool')(x)\n",
    "\n",
    "#block 5\n",
    "x = layers.Conv2D(512, (3,3), padding = 'same', activation = 'relu', name = 'block5_conv1')(x)\n",
    "x = layers.Conv2D(512, (3,3), padding = 'same', activation = 'relu', name = 'block5_conv2')(x)\n",
    "x = layers.Conv2D(512, (3,3), padding = 'same', activation = 'relu', name = 'block5_conv3')(x)\n",
    "x = layers.MaxPooling2D((2,2), name = 'block5_pool')(x)\n",
    "\n",
    "#output\n",
    "x = layers.Flatten(name = 'flatten')(x)\n",
    "x = layers.Dense(4096, activation = 'relu', name = 'fc1')(x)\n",
    "x = layers.Dense(4096, activation = 'relu', name = 'fc2')(x)\n",
    "output = layers.Dense(1000, activation = 'softmax', name = 'output')(x)\n",
    "\n",
    "\n",
    "\n",
    "#model\n",
    "model = keras.Model(\n",
    "    inputs = input,\n",
    "    outputs = output,\n",
    "    name  = 'VGG16'\n",
    ")\n",
    "\n",
    "model.summary()"
   ]
  }
 ],
 "metadata": {
  "kernelspec": {
   "display_name": "Python 3 (ipykernel)",
   "language": "python",
   "name": "python3"
  },
  "language_info": {
   "codemirror_mode": {
    "name": "ipython",
    "version": 3
   },
   "file_extension": ".py",
   "mimetype": "text/x-python",
   "name": "python",
   "nbconvert_exporter": "python",
   "pygments_lexer": "ipython3",
   "version": "3.7.9"
  }
 },
 "nbformat": 4,
 "nbformat_minor": 5
}
